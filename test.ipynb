{
 "cells": [
  {
   "cell_type": "code",
   "execution_count": 1,
   "metadata": {},
   "outputs": [],
   "source": [
    "x  = 4"
   ]
  },
  {
   "cell_type": "code",
   "execution_count": 2,
   "metadata": {},
   "outputs": [],
   "source": [
    "cipher = [\"_\"] * 5"
   ]
  },
  {
   "cell_type": "code",
   "execution_count": 3,
   "metadata": {},
   "outputs": [
    {
     "data": {
      "text/plain": [
       "['_', '_', '_', '_', '_']"
      ]
     },
     "execution_count": 3,
     "metadata": {},
     "output_type": "execute_result"
    }
   ],
   "source": [
    "cipher"
   ]
  },
  {
   "cell_type": "code",
   "execution_count": 11,
   "metadata": {},
   "outputs": [
    {
     "data": {
      "text/plain": [
       "97"
      ]
     },
     "execution_count": 11,
     "metadata": {},
     "output_type": "execute_result"
    }
   ],
   "source": [
    "ord('a')"
   ]
  },
  {
   "cell_type": "code",
   "execution_count": 14,
   "metadata": {},
   "outputs": [
    {
     "data": {
      "text/plain": [
       "False"
      ]
     },
     "execution_count": 14,
     "metadata": {},
     "output_type": "execute_result"
    }
   ],
   "source": [
    "\"d\".isupper()"
   ]
  },
  {
   "cell_type": "code",
   "execution_count": 10,
   "metadata": {},
   "outputs": [
    {
     "name": "stdout",
     "output_type": "stream",
     "text": [
      "Original text: hello man man\n",
      "Encrypted text: khoor;pdq@pdq\n",
      "Decrypted text: hello man man\n"
     ]
    }
   ],
   "source": [
    "import random\n",
    "\n",
    "\n",
    "def sc_encryption(st, shift):\n",
    "    ciphertxt = \"\"\n",
    "    space_substitute = [\"@\", \"#\", \"$\", \".\", \";\", \"&\", \"*\", \"?\", \"~\", \",\"]\n",
    "    for i in st:\n",
    "        # if character is space\n",
    "        if i == \" \":\n",
    "            ciphertxt = ciphertxt + space_substitute[random.randint(0, 9)]\n",
    "        # if the character is number\n",
    "        elif 48 <= ord(i) <= 57:\n",
    "            ciphertxt = ciphertxt + chr((ord(i) + shift - 48) % 10 + 48)\n",
    "        # if Upper case letter\n",
    "        elif i.isupper():\n",
    "            ciphertxt = ciphertxt + chr((ord(i) + shift - 65) % 26 + 65)\n",
    "        # if lowercase letter\n",
    "        else:\n",
    "            ciphertxt = ciphertxt + chr((ord(i) + shift - 97) % 26 + 97)\n",
    "    return ciphertxt\n",
    "\n",
    "\n",
    "def sc_decryption(st, shift):\n",
    "    ogtxt = \"\"\n",
    "    space_substitute = [\"@\", \"#\", \"$\", \".\", \";\", \"&\", \"*\", \"?\", \"~\", \",\"]\n",
    "    for i in st:\n",
    "        # if character is space\n",
    "        if i in space_substitute:\n",
    "            ogtxt = ogtxt + \" \"\n",
    "        # if the character is number\n",
    "        elif 48 <= ord(i) <= 57:\n",
    "            ogtxt = ogtxt + chr((ord(i) - shift - 48) % 10 + 48)\n",
    "        # if Upper case letter\n",
    "        elif i.isupper():\n",
    "            ogtxt = ogtxt + chr((ord(i) - shift - 65) % 26 + 65)\n",
    "        # if lowercase letter\n",
    "        else:\n",
    "            ogtxt = ogtxt + chr((ord(i) - shift - 97) % 26 + 97)\n",
    "    return ogtxt\n",
    "\n",
    "\n",
    "string = input(\"Enter String: \")\n",
    "move = int(input(\"Enter Shift Key: \"))\n",
    "\n",
    "encrypted = sc_encryption(string, move)\n",
    "decrypted = sc_decryption(encrypted, move)\n",
    "print(\"Original text: \" + string)\n",
    "print(\"Encrypted text: \" + encrypted)\n",
    "print(\"Decrypted text: \" + decrypted)"
   ]
  },
  {
   "cell_type": "code",
   "execution_count": null,
   "metadata": {},
   "outputs": [],
   "source": [
    "crypt = input(\"Decrypt or Encrypt (De/En): \")\n",
    "\n",
    "if crypt == 'En':\n",
    "    string = input('Enter String: ')\n",
    "    move = int(input('Enter Shift Key: '))\n",
    "    encrypted = encryption(string, move)\n",
    "elif crypt == 'De':\n",
    "    encrypted = input('Enter your cipher text: ')\n",
    "    move = int(input('Enter Shift Key: '))\n",
    "\n",
    "decrypted = decryption(encrypted, move)\n",
    "print('Original text (input from user): ' + string)\n",
    "print('Encrypted text: ' + encrypted)\n",
    "print('Decrypted text (from program): ' + decrypted)"
   ]
  },
  {
   "cell_type": "code",
   "execution_count": null,
   "metadata": {},
   "outputs": [],
   "source": []
  }
 ],
 "metadata": {
  "kernelspec": {
   "display_name": "Python 3",
   "language": "python",
   "name": "python3"
  },
  "language_info": {
   "codemirror_mode": {
    "name": "ipython",
    "version": 3
   },
   "file_extension": ".py",
   "mimetype": "text/x-python",
   "name": "python",
   "nbconvert_exporter": "python",
   "pygments_lexer": "ipython3",
   "version": "3.10.9"
  },
  "orig_nbformat": 4,
  "vscode": {
   "interpreter": {
    "hash": "47e86d731e077963188d400b641a1f5cee6401b89b8a1175acb1a082248e2517"
   }
  }
 },
 "nbformat": 4,
 "nbformat_minor": 2
}
